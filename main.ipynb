{
 "cells": [
  {
   "cell_type": "code",
   "execution_count": 1,
   "metadata": {},
   "outputs": [],
   "source": [
    "import json\n",
    "import tkinter as tk\n",
    "import numpy as np"
   ]
  },
  {
   "cell_type": "code",
   "execution_count": 2,
   "metadata": {},
   "outputs": [],
   "source": [
    "with open(\"geoBoundariesCGAZ_ADM0.geojson\", \"r\") as f:\n",
    "    geo_dict = json.load(f)\n",
    "\n",
    "features = geo_dict[\"features\"]\n",
    "countries = []\n",
    "for feature in features:\n",
    "    countries.append(feature[\"properties\"][\"shapeName\"])"
   ]
  },
  {
   "cell_type": "code",
   "execution_count": 20,
   "metadata": {},
   "outputs": [],
   "source": [
    "root = tk.Tk()\n",
    "root.title(\"Country Displayer\")\n",
    "screen_width, screen_height = 700, 700\n",
    "canvas = tk.Canvas(root, width=screen_width, height=screen_height, bg=\"black\")\n",
    "canvas.grid(row=0, column=0, columnspan=4)\n",
    "\n",
    "width_var = tk.IntVar(root, 300)\n",
    "country_var = tk.StringVar(root, \"Afghanistan\")\n",
    "\n",
    "def drawCountry():\n",
    "    w = width_var.get()\n",
    "    country = country_var.get()\n",
    "    idx = countries.index(country)\n",
    "    geometry = features[idx][\"geometry\"]\n",
    "\n",
    "    canvas.delete(\"all\")\n",
    "    if geometry[\"type\"] == \"Polygon\":\n",
    "        points = np.array(geometry[\"coordinates\"][0]).flatten()\n",
    "        points[1::2] *= -1  # Reversing y points for coordinate change\n",
    "        init_w = np.max(points[::2]) - np.min(points[::2])\n",
    "        init_h = np.max(points[1::2]) - np.min(points[1::2])\n",
    "        scale = w / init_w\n",
    "        points[::2] = (points[::2] - np.min(points[::2]) - init_w / 2) * scale + screen_width / 2\n",
    "        points[1::2] = (points[1::2] - np.min(points[1::2]) - init_h / 2) * scale + screen_height / 2\n",
    "        canvas.create_polygon(*points, fill=\"white\", outline=\"black\")\n",
    "    elif geometry[\"type\"] == \"MultiPolygon\":\n",
    "        max_val = 0\n",
    "        max_idx = -1\n",
    "        for idx, poly in enumerate(geometry[\"coordinates\"]):\n",
    "            points = np.array(poly[0]).flatten()\n",
    "            if len(points) > max_val:\n",
    "                max_val = len(points)\n",
    "                max_idx = idx\n",
    "        mainland_points = np.array(geometry[\"coordinates\"][max_idx][0]).flatten()\n",
    "        mainland_points[1::2] *= -1  # Reversing y points for coordinate change\n",
    "        min_x = np.min(mainland_points[::2])\n",
    "        min_y = np.min(mainland_points[1::2])\n",
    "        init_w = np.max(mainland_points[::2]) - min_x\n",
    "        init_h = np.max(mainland_points[1::2]) - min_y\n",
    "        scale = w / init_w\n",
    "        for poly in geometry[\"coordinates\"]:\n",
    "            points = np.array(poly[0]).flatten()\n",
    "            points[1::2] *= -1  # Reversing y points for coordinate change\n",
    "            points[::2] = (points[::2] - min_x - init_w / 2) * scale + screen_width / 2\n",
    "            points[1::2] = (points[1::2] - min_y - init_h / 2) * scale + screen_height / 2\n",
    "            canvas.create_polygon(*points, fill=\"white\", outline=\"black\")\n",
    "\n",
    "def onSlide(val):\n",
    "    width_var.set(int(val))\n",
    "    drawCountry()\n",
    "\n",
    "def onSelect(val):\n",
    "    country_var.set(val)\n",
    "    drawCountry()\n",
    "\n",
    "slider = tk.Scale(root, from_=50, to_=500, length=200, command=onSlide, orient=tk.HORIZONTAL)\n",
    "slider.set(300)\n",
    "slider.grid(row=1, column=2, pady=5)\n",
    "\n",
    "dropdown = tk.OptionMenu(root, country_var, *countries, command=onSelect)\n",
    "dropdown.grid(row=1, column=1, pady=5)\n",
    "\n",
    "root.mainloop()"
   ]
  }
 ],
 "metadata": {
  "kernelspec": {
   "display_name": "venv",
   "language": "python",
   "name": "python3"
  },
  "language_info": {
   "codemirror_mode": {
    "name": "ipython",
    "version": 3
   },
   "file_extension": ".py",
   "mimetype": "text/x-python",
   "name": "python",
   "nbconvert_exporter": "python",
   "pygments_lexer": "ipython3",
   "version": "3.11.7"
  }
 },
 "nbformat": 4,
 "nbformat_minor": 2
}
